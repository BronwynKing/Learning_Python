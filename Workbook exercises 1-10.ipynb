{
 "cells": [
  {
   "cell_type": "code",
   "execution_count": null,
   "id": "561c1f55",
   "metadata": {},
   "outputs": [],
   "source": [
    "#Area of a room\n",
    "\n",
    "#Take input\n",
    "length = float(input(\"Enter the length of the room in metres: \"))\n"
   ]
  },
  {
   "cell_type": "code",
   "execution_count": null,
   "id": "b065d617",
   "metadata": {},
   "outputs": [],
   "source": [
    "width = float(input(\"Enter the width of the room in metres: \"))\n",
    "    "
   ]
  },
  {
   "cell_type": "code",
   "execution_count": null,
   "id": "c5285c2f",
   "metadata": {},
   "outputs": [],
   "source": [
    "#Compute area of room\n",
    "area = length * width"
   ]
  },
  {
   "cell_type": "code",
   "execution_count": null,
   "id": "e45a18df",
   "metadata": {},
   "outputs": [],
   "source": [
    "#Display the result i metres\n",
    "print(\"The area of the room is: \", area, \"square metres\")\n"
   ]
  },
  {
   "cell_type": "code",
   "execution_count": null,
   "id": "c00c8e7c",
   "metadata": {},
   "outputs": [],
   "source": []
  },
  {
   "cell_type": "code",
   "execution_count": null,
   "id": "71f55b08",
   "metadata": {},
   "outputs": [],
   "source": [
    "#Compute area of a field in acres\n",
    "SquareMPerAcre = 4046.86"
   ]
  },
  {
   "cell_type": "code",
   "execution_count": null,
   "id": "6438cdf9",
   "metadata": {},
   "outputs": [],
   "source": [
    "acres = length * width / SquareMPerAcre"
   ]
  },
  {
   "cell_type": "code",
   "execution_count": null,
   "id": "a178e13c",
   "metadata": {},
   "outputs": [],
   "source": [
    "#Display the result in acres\n",
    "print('The area of the field is ', acres, \"acres\")"
   ]
  },
  {
   "cell_type": "code",
   "execution_count": null,
   "id": "adc25204",
   "metadata": {},
   "outputs": [],
   "source": []
  },
  {
   "cell_type": "code",
   "execution_count": null,
   "id": "56f0343d",
   "metadata": {},
   "outputs": [],
   "source": [
    "#Compute the refund amount for a collection of bottles\n",
    "LESS_DEPOSIT = 0.10\n",
    "MORE_DEPOSIT = 0.25"
   ]
  },
  {
   "cell_type": "code",
   "execution_count": null,
   "id": "4f242963",
   "metadata": {},
   "outputs": [],
   "source": [
    "#Read the input from the user\n",
    "less = int(input(\"How many containers 1 litre or less do you have? \"))\n",
    "more = int(input(\"How many containers more than 1 litre do you have? \"))"
   ]
  },
  {
   "cell_type": "code",
   "execution_count": null,
   "id": "a7ae5fbd",
   "metadata": {},
   "outputs": [],
   "source": [
    "#Compute the refund amount\n",
    "refund = less * LESS_DEPOSIT + more * MORE_DEPOSIT"
   ]
  },
  {
   "cell_type": "code",
   "execution_count": null,
   "id": "74d361be",
   "metadata": {},
   "outputs": [],
   "source": [
    "#Display result\n",
    "print(\"Your total refund will be $%.2f.\" % refund)"
   ]
  },
  {
   "cell_type": "code",
   "execution_count": null,
   "id": "b2f39d9b",
   "metadata": {},
   "outputs": [],
   "source": [
    "#Compute the sum of the first n positive integers\n",
    "#Read input from the user\n",
    "\n",
    "n = int(input(\"Enter a positive integer: \"))\n",
    "\n",
    "#Compute the sum\n",
    "\n",
    "sm = n * (n + 1) / 2"
   ]
  },
  {
   "cell_type": "code",
   "execution_count": null,
   "id": "6171f2ab",
   "metadata": {},
   "outputs": [],
   "source": [
    "print(\"The sum of the first\", n, \"positive integers is\", sm,)"
   ]
  },
  {
   "cell_type": "code",
   "execution_count": 1,
   "id": "b53932e2",
   "metadata": {},
   "outputs": [
    {
     "name": "stdout",
     "output_type": "stream",
     "text": [
      "How many widgets do you want to buy? 3\n",
      "How many gizmos do you want to buy? 4\n"
     ]
    }
   ],
   "source": [
    "#widgets and gizmos\n",
    "\n",
    "widget = 75\n",
    "gizmos = 115\n",
    "\n",
    "wweight = int(input(\"How many widgets do you want to buy? \"))\n",
    "gweight = int(input(\"How many gizmos do you want to buy? \"))"
   ]
  },
  {
   "cell_type": "code",
   "execution_count": 4,
   "id": "67d26c8c",
   "metadata": {},
   "outputs": [
    {
     "name": "stdout",
     "output_type": "stream",
     "text": [
      "The total weight of your order is: 685 grams\n"
     ]
    }
   ],
   "source": [
    "print('The total weight of your order is:', wweight * widget + gweight * gizmos, \"grams\")"
   ]
  },
  {
   "cell_type": "code",
   "execution_count": 5,
   "id": "2cd75ff3",
   "metadata": {},
   "outputs": [
    {
     "name": "stdout",
     "output_type": "stream",
     "text": [
      "What deposit can you afford? 500\n"
     ]
    }
   ],
   "source": [
    "#Compound yearly interest\n",
    "\n",
    "deposit = int(input(\"What deposit can you afford? \"))"
   ]
  },
  {
   "cell_type": "code",
   "execution_count": 7,
   "id": "588504d0",
   "metadata": {},
   "outputs": [
    {
     "name": "stdout",
     "output_type": "stream",
     "text": [
      "20.0\n"
     ]
    }
   ],
   "source": [
    "#Cal. interest per year\n",
    "interest = deposit * 4 / 100\n",
    "print(interest)"
   ]
  },
  {
   "cell_type": "code",
   "execution_count": 8,
   "id": "c0abc219",
   "metadata": {},
   "outputs": [
    {
     "name": "stdout",
     "output_type": "stream",
     "text": [
      "520.0\n"
     ]
    }
   ],
   "source": [
    "#year one investment\n",
    "year1 = deposit + interest\n",
    "print(year1)"
   ]
  },
  {
   "cell_type": "code",
   "execution_count": 10,
   "id": "2896c8ce",
   "metadata": {},
   "outputs": [
    {
     "name": "stdout",
     "output_type": "stream",
     "text": [
      "540.8\n"
     ]
    }
   ],
   "source": [
    "#year two investment\n",
    "year2 = year1 + year1 * 4 / 100\n",
    "print(year2)"
   ]
  },
  {
   "cell_type": "code",
   "execution_count": 11,
   "id": "b5c130fb",
   "metadata": {},
   "outputs": [
    {
     "name": "stdout",
     "output_type": "stream",
     "text": [
      "562.4319999999999\n"
     ]
    }
   ],
   "source": [
    "#year three investment\n",
    "year3 = year2 + year2 * 4 / 100\n",
    "print(year3)"
   ]
  },
  {
   "cell_type": "code",
   "execution_count": 15,
   "id": "58d18f35",
   "metadata": {},
   "outputs": [
    {
     "name": "stdout",
     "output_type": "stream",
     "text": [
      "What is the value of your home? 100\n"
     ]
    }
   ],
   "source": [
    "#Program takes integers and computes them in different ways\n",
    "#Assets examples\n",
    "homeval = int(input(\"What is the value of your home? \"))"
   ]
  },
  {
   "cell_type": "code",
   "execution_count": 21,
   "id": "2c2cc972",
   "metadata": {},
   "outputs": [
    {
     "name": "stdout",
     "output_type": "stream",
     "text": [
      "What is the value of your car? 35\n",
      "What is the value of your business premesis? 500\n"
     ]
    }
   ],
   "source": [
    "carval = int(input(\"What is the value of your car? \"))\n",
    "busval = int(input(\"What is the value of your business premesis? \"))"
   ]
  },
  {
   "cell_type": "code",
   "execution_count": 22,
   "id": "aac91487",
   "metadata": {},
   "outputs": [
    {
     "name": "stdout",
     "output_type": "stream",
     "text": [
      "635\n"
     ]
    }
   ],
   "source": [
    "#total asset value\n",
    "assets = homeval + carval + busval\n",
    "print(assets)"
   ]
  },
  {
   "cell_type": "code",
   "execution_count": 24,
   "id": "9b85b7b9",
   "metadata": {},
   "outputs": [
    {
     "name": "stdout",
     "output_type": "stream",
     "text": [
      "600\n"
     ]
    }
   ],
   "source": [
    "#value of real estate only\n",
    "realestate = assets - carval\n",
    "print(realestate)"
   ]
  },
  {
   "cell_type": "code",
   "execution_count": 25,
   "id": "7587fa11",
   "metadata": {},
   "outputs": [
    {
     "name": "stdout",
     "output_type": "stream",
     "text": [
      "3500\n"
     ]
    }
   ],
   "source": [
    "#computing these values in a variety of ways\n",
    "\n",
    "product_homeval_carval = homeval * carval\n",
    "print(product_homeval_carval)"
   ]
  },
  {
   "cell_type": "code",
   "execution_count": 26,
   "id": "9c1f4ca3",
   "metadata": {},
   "outputs": [
    {
     "name": "stdout",
     "output_type": "stream",
     "text": [
      "14.285714285714286\n"
     ]
    }
   ],
   "source": [
    "quotient_busval_carval = busval / carval\n",
    "print(quotient_busval_carval)"
   ]
  },
  {
   "cell_type": "code",
   "execution_count": 27,
   "id": "75f2a7ea",
   "metadata": {},
   "outputs": [
    {
     "name": "stdout",
     "output_type": "stream",
     "text": [
      "30\n"
     ]
    }
   ],
   "source": [
    "remainder_homeval_carval = homeval % carval\n",
    "print(remainder_homeval_carval)"
   ]
  },
  {
   "cell_type": "code",
   "execution_count": 29,
   "id": "4f5a75a2",
   "metadata": {},
   "outputs": [
    {
     "name": "stdout",
     "output_type": "stream",
     "text": [
      "10000\n"
     ]
    }
   ],
   "source": [
    "exponval = homeval ** 2\n",
    "print(exponval)"
   ]
  },
  {
   "cell_type": "code",
   "execution_count": null,
   "id": "4a086bb8",
   "metadata": {},
   "outputs": [],
   "source": []
  }
 ],
 "metadata": {
  "kernelspec": {
   "display_name": "Python 3",
   "language": "python",
   "name": "python3"
  },
  "language_info": {
   "codemirror_mode": {
    "name": "ipython",
    "version": 3
   },
   "file_extension": ".py",
   "mimetype": "text/x-python",
   "name": "python",
   "nbconvert_exporter": "python",
   "pygments_lexer": "ipython3",
   "version": "3.8.8"
  }
 },
 "nbformat": 4,
 "nbformat_minor": 5
}
