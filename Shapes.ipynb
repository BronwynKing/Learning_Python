{
 "cells": [
  {
   "cell_type": "markdown",
   "id": "65634619",
   "metadata": {},
   "source": [
    "What kind of shape is it?\n",
    "\n",
    "You can use this program to tell the name of a shape from the number of sides.\n",
    "\n",
    "You will see some code in grey blocks below. Just ignore these grey blocks please. I am still learning how to hide the code.\n",
    "\n",
    "Follow the instructions carefully below:\n",
    "\n",
    "1. Think of a shape. \n",
    "\n",
    "2. Click on the first grey cell and then click on the 'Run' button above.\n",
    "\n",
    "3. Type in the number of sides in the block that appears below the cell.\n",
    "\n",
    "4. Press 'Enter'."
   ]
  },
  {
   "cell_type": "code",
   "execution_count": 3,
   "id": "7f16d20b",
   "metadata": {
    "tags": [
     "{",
     "\"tags\":",
     "[",
     "\"remove-output\"",
     "]",
     "}"
    ]
   },
   "outputs": [
    {
     "name": "stdout",
     "output_type": "stream",
     "text": [
      "How many sides does your shape have? 0\n"
     ]
    }
   ],
   "source": [
    "sides = int(input(\"How many sides does your shape have? \"))"
   ]
  },
  {
   "cell_type": "markdown",
   "id": "83013174",
   "metadata": {},
   "source": [
    "5. Now click on the next grey cell, and then click on the 'Run' button above again.\n",
    "\n",
    "6. Scroll to the bottom of the page for your answer"
   ]
  },
  {
   "cell_type": "code",
   "execution_count": 4,
   "id": "7ea216ed",
   "metadata": {},
   "outputs": [
    {
     "name": "stdout",
     "output_type": "stream",
     "text": [
      "Cannot compute. It's outside my programming parameters, sorry. Try again.\n"
     ]
    }
   ],
   "source": [
    "name = \"\"\n",
    "\n",
    "if sides == 3:\n",
    "    name = \"It's a triangle Trudy.\"\n",
    "\n",
    "elif sides == 4:\n",
    "    name = \"It's a quadrillateral Queenie.\"\n",
    "\n",
    "elif sides == 5:\n",
    "    name = \"It's a pentagon Penny.\"\n",
    "\n",
    "elif sides == 6:\n",
    "    name = \"It's a hexagon Hector.\"\n",
    "\n",
    "elif sides == 7:\n",
    "    name = \"It's a heptagon Hercules.\"\n",
    "\n",
    "elif sides == 8:\n",
    "    name = \"It's a octagon Olivia.\"\n",
    "\n",
    "elif sides == 9:\n",
    "    name = \"It's a nonagon Nanny.\"\n",
    "\n",
    "elif sides == 10:\n",
    "    name = \"It's a decagon Danny.\"\n",
    "          \n",
    "else:\n",
    "    name = \"Cannot compute. It's outside my programming parameters, sorry. Try again.\"\n",
    "\n",
    "print(name)"
   ]
  },
  {
   "cell_type": "markdown",
   "id": "0e1a347b",
   "metadata": {},
   "source": [
    "Troubleshooting:\n",
    "\n",
    "If you are having a problem, click on the tab 'Kernel' above. \n",
    "\n",
    "Then select 'Restart and clear output'. Click on the red button 'Restart and clear output'.\n",
    "\n",
    "Go to the beginning and start again. You will need to click every cell and then click on 'Run' one after another from top to bottom."
   ]
  },
  {
   "cell_type": "code",
   "execution_count": null,
   "id": "53e4be4e",
   "metadata": {},
   "outputs": [],
   "source": []
  }
 ],
 "metadata": {
  "kernelspec": {
   "display_name": "Python 3",
   "language": "python",
   "name": "python3"
  },
  "language_info": {
   "codemirror_mode": {
    "name": "ipython",
    "version": 3
   },
   "file_extension": ".py",
   "mimetype": "text/x-python",
   "name": "python",
   "nbconvert_exporter": "python",
   "pygments_lexer": "ipython3",
   "version": "3.8.8"
  }
 },
 "nbformat": 4,
 "nbformat_minor": 5
}
